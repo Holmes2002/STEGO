{
  "nbformat": 4,
  "nbformat_minor": 0,
  "metadata": {
    "colab": {
      "private_outputs": true,
      "provenance": []
    },
    "kernelspec": {
      "name": "python3",
      "display_name": "Python 3"
    },
    "language_info": {
      "name": "python"
    }
  },
  "cells": [
    {
      "cell_type": "code",
      "execution_count": null,
      "metadata": {
        "id": "wu9PhPAct7O3"
      },
      "outputs": [],
      "source": [
        "import requests, zipfile, io\n",
        "\n",
        "r = requests.get('https://drive.google.com/uc?id=1-m2JRtJ-UX71tHl9QKhvFvAbRw5JyUA_&export=download')\n",
        "z = zipfile.ZipFile(io.BytesIO(r.content))\n",
        "z.extractall(\"/content\")"
      ]
    },
    {
      "cell_type": "code",
      "source": [
        "%cd '/content/STEGO-master copy 2'\n",
        "!pip install -r requirements.txt\n",
        "!pip install git+https://github.com/lucasb-eyer/pydensecrf.git\n",
        "#!pip install torch==1.8 torchtext==0.9\n",
        "!pip install torch==1.8.0+cu111 torchvision==0.9.0+cu111 torchaudio==0.8.0 -f https://download.pytorch.org/whl/torch_stable.html\n",
        "%cd src\n",
        "!mkdir dataset\n"
      ],
      "metadata": {
        "id": "ILbHQ9KkuGLi"
      },
      "execution_count": null,
      "outputs": []
    },
    {
      "cell_type": "code",
      "source": [
        "!HYDRA_FULL_ERROR=1 python precompute_knns.py"
      ],
      "metadata": {
        "id": "ex9X_a9quN-v"
      },
      "execution_count": null,
      "outputs": []
    },
    {
      "cell_type": "code",
      "source": [
        "!HYDRA_FULL_ERROR=1 python train_segmentation.py"
      ],
      "metadata": {
        "id": "3d9kN7mauYb3"
      },
      "execution_count": null,
      "outputs": []
    },
    {
      "cell_type": "code",
      "source": [
        "!HYDRA_FULL_ERROR=1 python linear.py"
      ],
      "metadata": {
        "id": "IVSCXIk7uhcy"
      },
      "execution_count": null,
      "outputs": []
    }
  ]
}
